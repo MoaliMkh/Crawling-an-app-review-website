{
 "cells": [
  {
   "cell_type": "code",
   "execution_count": 8,
   "metadata": {},
   "outputs": [],
   "source": [
    "from selenium import webdriver\n",
    "driver = webdriver.Firefox()"
   ]
  },
  {
   "cell_type": "code",
   "execution_count": 12,
   "metadata": {},
   "outputs": [],
   "source": [
    "review_links = open('my_reviews.txt', 'r')\n",
    "Lines = review_links.readlines()"
   ]
  },
  {
   "cell_type": "code",
   "execution_count": 13,
   "metadata": {},
   "outputs": [],
   "source": [
    "url_list = Lines[0: 50]\n",
    "data_dict = []\n",
    "broken_links = []"
   ]
  },
  {
   "cell_type": "code",
   "execution_count": 14,
   "metadata": {},
   "outputs": [
    {
     "name": "stdout",
     "output_type": "stream",
     "text": [
      "0\n",
      "1\n",
      "2\n",
      "3\n",
      "4\n",
      "5\n",
      "6\n",
      "7\n",
      "8\n",
      "9\n",
      "10\n",
      "11\n",
      "Error happened!\n",
      "Error happened!\n",
      "14\n",
      "Error happened!\n",
      "16\n",
      "Error happened!\n",
      "18\n",
      "19\n",
      "20\n",
      "21\n",
      "22\n",
      "23\n",
      "24\n",
      "25\n",
      "26\n",
      "27\n",
      "28\n",
      "29\n",
      "Error happened!\n",
      "31\n",
      "32\n",
      "33\n",
      "34\n",
      "35\n",
      "36\n",
      "37\n",
      "38\n",
      "39\n",
      "40\n",
      "41\n",
      "42\n",
      "43\n",
      "44\n",
      "45\n",
      "46\n",
      "47\n",
      "Error happened!\n",
      "49\n"
     ]
    }
   ],
   "source": [
    "import time\n",
    "for index, url in enumerate(url_list):\n",
    "    time.sleep(5)\n",
    "    driver.get(url)\n",
    "    try:\n",
    "        title = driver.find_element(\"xpath\", \"/html/body/div[1]/main/div/article/aside[1]/div/div/h2\")\n",
    "        cons = driver.find_element(by=\"css selector\", value='.cons')\n",
    "        data_dict.append({\"title\": title.text, \"Issues and Downsides\": cons.text})\n",
    "        print(index)\n",
    "        \n",
    "    except:\n",
    "        broken_links.append(url)\n",
    "        print(\"Error happened!\")"
   ]
  },
  {
   "cell_type": "code",
   "execution_count": 15,
   "metadata": {},
   "outputs": [
    {
     "data": {
      "text/plain": [
       "[{'title': 'SAP Ariba Procurement',\n",
       "  'Issues and Downsides': 'mobile app invoice approvals\\ncontract effective date needs to be able to be invoiced after'},\n",
       " {'title': 'SAP Ariba Procurement',\n",
       "  'Issues and Downsides': 'Connect the operational Ariba contracts completly with S/4 contracts\\ncompany hierarchies in SLP and relation in according to the mdg\\nImplementation of a good search engine'},\n",
       " {'title': 'SAP Business Network',\n",
       "  'Issues and Downsides': 'Complex account logic / multiple ANIDs required\\nGetting transaction reports across multiple ANIDs'},\n",
       " {'title': 'SAP Business Network',\n",
       "  'Issues and Downsides': 'Account management - too many \"rogue\" accounts are created\\nDiscovery - Network catalogues are a nice feature but should be better controllable in regard to reach - as we are not allowed to sell everything to everyone..'},\n",
       " {'title': 'SAP Ariba Procurement',\n",
       "  'Issues and Downsides': 'Focus on Retail issues\\nPerformance\\nflexibility in customization'},\n",
       " {'title': 'SAP Ariba Procurement',\n",
       "  'Issues and Downsides': 'Catalog purchases in the mobile app\\nMore global languages'},\n",
       " {'title': 'SAP Ariba Procurement',\n",
       "  'Issues and Downsides': 'More AI Support\\nSpeed\\nAdaptability for User'},\n",
       " {'title': 'SAP Datasphere',\n",
       "  'Issues and Downsides': 'Not intuitive to set up\\nNot for novice users\\nNot enough of visual choices\\nData not always verified properly'},\n",
       " {'title': 'RingCentral MVP',\n",
       "  'Issues and Downsides': 'Support\\nSupport\\nSupport'},\n",
       " {'title': 'SAP Datasphere',\n",
       "  'Issues and Downsides': 'Nothing as such. Tool needs maturity'},\n",
       " {'title': 'Mailchimp',\n",
       "  'Issues and Downsides': '\"Send To\" Contact Selection\\nCampaign Search Feature'},\n",
       " {'title': '360Learning',\n",
       "  'Issues and Downsides': \"Menus of each group need a better Ariane's thread.\\nPossibility to add points or importance in a question depending of the answers\"},\n",
       " {'title': 'SAP Master Data Governance',\n",
       "  'Issues and Downsides': 'Search Feature\\nAutomation'},\n",
       " {'title': 'SAP Master Data Governance',\n",
       "  'Issues and Downsides': 'recently with new S4 hana use, there came a lot of integration areas\\nmore simplified add-on tool can become helpful\\nCreation of Raw material data if can be used in a more interactive way'},\n",
       " {'title': 'Astra DB',\n",
       "  'Issues and Downsides': 'Query optimization by enhancing speed.\\nData Migration into Astra DB can be simplified.\\nUI for management tools can be more friendly.'},\n",
       " {'title': 'Mailchimp',\n",
       "  'Issues and Downsides': 'Pop-up can be better - we use Privy for that instead\\nEasy way to cover all compliance in various countries\\nBetter plan options - between the current price plans'},\n",
       " {'title': 'Keap',\n",
       "  'Issues and Downsides': 'More price options.\\nMore done for you templates.\\nMore onboarding tutorials.'},\n",
       " {'title': 'Adobe Marketo Engage',\n",
       "  'Issues and Downsides': 'It took me while to grasp the analytics set-up\\nWhile targeting is great, there are limitations on the things you can target in the email flow'},\n",
       " {'title': 'Intercom',\n",
       "  'Issues and Downsides': \"Lots of information and resources - hard to find succinct answers to questions\\nsome technical issues don't seem to be getting solved and require too much input from the user to have them looked into\"},\n",
       " {'title': 'Veeam Data Platform',\n",
       "  'Issues and Downsides': \"Veeam One is a great product that can replace other mature monitoring applications and Veeam doesn't seem to promote it as much as they should.\\nDR restores from cloud back to on-prem are not as automated as we would like them to be. It is cumbersome to have to bring back VMs from cloud manually.\\nProgress bars and time estimators are not accurate. Many times we have processes that sit at 100% for a long time before they actually complete.\"},\n",
       " {'title': 'Robocorp',\n",
       "  'Issues and Downsides': 'Improve the documentations with more examples.\\nInclude more built-in libraries\\nTool consumes large memory and space'},\n",
       " {'title': 'OpenAsset',\n",
       "  'Issues and Downsides': 'You can create an album to share with those outside of your firm, but the only way to do this is to download files into a zip file. This is antiquated thinking. It would be much better if you could create an album that would generate a temporary web page that anyone outside of the organization could view by clicking on a link.\\nThere are a number of legacy items that are no longer functional. OpenAsset needs to either make these functional or remove the options.'},\n",
       " {'title': 'Veeam Data Platform',\n",
       "  'Issues and Downsides': 'Failure events should be more verbose in the summary reports.\\nSNMP documentation for monitoring via an NMS (SolarWinds/Nagios) should be more in-depth.'},\n",
       " {'title': 'BrightHire',\n",
       "  'Issues and Downsides': 'Capturing transcripts acurrately in languages other than english\\nAccuracy of the AI notes generated by BrightHire as key points is not the best (the tool skews the findings a bit)'},\n",
       " {'title': 'Veeam Data Platform',\n",
       "  'Issues and Downsides': 'Management of agents fleet\\nReporting of agents\\nPerformance of agents\\nMore virtualisation plateform support (standard KVM like proxmox or opennebula, xen...)'},\n",
       " {'title': 'SAP Concur',\n",
       "  'Issues and Downsides': 'Report creation for expenses could be faster.\\nThe mobile version is not as streamlined as the desktop version.'},\n",
       " {'title': 'Mandiant Advantage Threat Intelligence',\n",
       "  'Issues and Downsides': 'Subscription level limits functionality\\nCan get lost in information when stepping through investigations\\nCustomisation'},\n",
       " {'title': 'Wrike',\n",
       "  'Issues and Downsides': 'Change the platform layout and look\\nIntegrations with marketing platforms like Google Ads - Be able to keep track of performance'},\n",
       " {'title': 'HID DigitalPersona',\n",
       "  'Issues and Downsides': 'Reporting capabilities can be improved in HID DigitalPersona for better insights into authentication and access trends.\\nHID DigitalPersona can be optimized in terms of its integration ability with mobile devices for a more versatile user experience.'},\n",
       " {'title': 'Similarweb',\n",
       "  'Issues and Downsides': \"Accuracy of Data: Similarweb's data is quite reliable, but it's not always 100% accurate. There can be discrepancies in traffic estimations and keyword rankings. Improving the accuracy of these metrics would be beneficial, especially for businesses that heavily rely on precise data for decision-making.\\nMobile App Data: Mobile apps play a significant role in online media, and having more comprehensive data on app traffic and usage would be a valuable addition. Currently, Similarweb focuses primarily on websites, and expanding its capabilities in the mobile app space would make it even more relevant.\\nEnhanced Demographic Data: While Similarweb offers audience insights, more granular demographic data would be helpful. Understanding the age, gender, and interests of website visitors with greater accuracy would assist marketers in crafting more targeted campaigns.\\nReal-Time Data: Similarweb provides historical data and trends, but real-time data is limited. In today's fast-paced digital landscape, having access to up-to-the-minute information is critical for making quick decisions and responding to changes in the market. Adding real-time data would be a major improvement.\\nIntegration with Other Tools: Many digital media professionals use a variety of tools for analytics, marketing, and advertising. Enhancing Similarweb's integration capabilities with other popular tools and platforms would streamline workflows and make it easier to incorporate Similarweb data into existing processes.\"},\n",
       " {'title': 'Whova',\n",
       "  'Issues and Downsides': 'Real-time alerts/notifications so you can respond quicker!\\nImprove how to rack actual attendance for \"Answer a survey\" for the Leaderboard. It is currently constructed on an honor system. One could answer a survey for a session they did not attend to get the points!\\nLetting conference registrants know how long the event will be available through the app.\\nInstructions on how to export Bookmarked attendees and Handouts. I had to go online to find out how to export the handouts.'},\n",
       " {'title': 'Guru',\n",
       "  'Issues and Downsides': 'More specific filters\\nMore options to find recent searches'},\n",
       " {'title': 'Listclean',\n",
       "  'Issues and Downsides': 'UI\\nSite load times\\nMore integrations'},\n",
       " {'title': 'Optimizely Web Experimentation',\n",
       "  'Issues and Downsides': 'Data cohesion\\nData/analysis presentation\\nAnalysis repository\\nSearchable insights library\\nCode recommendations based on previously written tests'},\n",
       " {'title': 'Optimizely Web Experimentation',\n",
       "  'Issues and Downsides': 'Desktop app\\nSide by side experiment comparison (tabs)'},\n",
       " {'title': 'Listclean',\n",
       "  'Issues and Downsides': 'If Listclean can verify phone numbers that would be great!'},\n",
       " {'title': 'Optimizely Content Management System',\n",
       "  'Issues and Downsides': 'I would like to the forum have more update documentation\\nDocumentation with more example and code snippets'},\n",
       " {'title': 'Optimizely Content Management System',\n",
       "  'Issues and Downsides': 'Composability is good, but make it easier and more configurable'},\n",
       " {'title': 'Dynamic Yield', 'Issues and Downsides': 'Price'},\n",
       " {'title': 'LogicMonitor',\n",
       "  'Issues and Downsides': 'No defect at all the features are fantastic and they work as required'},\n",
       " {'title': 'Optimizely Content Management System',\n",
       "  'Issues and Downsides': 'Block Management\\nAsset Management\\nReporting'},\n",
       " {'title': 'Whova',\n",
       "  'Issues and Downsides': 'Simplification\\nCategorizations\\nOrganization'},\n",
       " {'title': 'Zip Intake-to-Procure',\n",
       "  'Issues and Downsides': 'Customized Invoice Reporting'},\n",
       " {'title': 'Optimizely Content Management System',\n",
       "  'Issues and Downsides': 'EPI find\\nEditor experience'}]"
      ]
     },
     "execution_count": 15,
     "metadata": {},
     "output_type": "execute_result"
    }
   ],
   "source": [
    "data_dict"
   ]
  },
  {
   "cell_type": "code",
   "execution_count": 16,
   "metadata": {},
   "outputs": [],
   "source": [
    "import pandas as pd\n",
    "df = pd.DataFrame.from_dict(data_dict)\n"
   ]
  },
  {
   "cell_type": "code",
   "execution_count": 17,
   "metadata": {},
   "outputs": [],
   "source": [
    "df.to_excel('review.xlsx')"
   ]
  },
  {
   "cell_type": "code",
   "execution_count": 18,
   "metadata": {},
   "outputs": [
    {
     "data": {
      "text/plain": [
       "['https://www.trustradius.com/reviews/sap-datasphere-2023-10-11-23-02-28\\n',\n",
       " 'https://www.trustradius.com/reviews/sap-datasphere-2023-10-11-13-48-05\\n',\n",
       " 'https://www.trustradius.com/reviews/sap-master-data-governance-2023-10-11-22-37-29\\n',\n",
       " 'https://www.trustradius.com/reviews/sap-master-data-governance-2023-10-11-11-39-26\\n',\n",
       " 'https://www.trustradius.com/reviews/amazon-relational-database-service-rds-2023-10-09-09-09-02\\n',\n",
       " 'https://www.trustradius.com/reviews/whova-2023-10-10-12-38-57\\n']"
      ]
     },
     "execution_count": 18,
     "metadata": {},
     "output_type": "execute_result"
    }
   ],
   "source": [
    "broken_links"
   ]
  }
 ],
 "metadata": {
  "kernelspec": {
   "display_name": "Python 3",
   "language": "python",
   "name": "python3"
  },
  "language_info": {
   "codemirror_mode": {
    "name": "ipython",
    "version": 3
   },
   "file_extension": ".py",
   "mimetype": "text/x-python",
   "name": "python",
   "nbconvert_exporter": "python",
   "pygments_lexer": "ipython3",
   "version": "3.11.5"
  }
 },
 "nbformat": 4,
 "nbformat_minor": 2
}
