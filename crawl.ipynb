{
 "cells": [
  {
   "cell_type": "code",
   "execution_count": 63,
   "metadata": {},
   "outputs": [],
   "source": [
    "from selenium import webdriver\n",
    "driver = webdriver.Firefox()"
   ]
  },
  {
   "cell_type": "code",
   "execution_count": 79,
   "metadata": {},
   "outputs": [],
   "source": [
    "review_links = open('reviews.txt', 'r')\n",
    "Lines = review_links.readlines()"
   ]
  },
  {
   "cell_type": "code",
   "execution_count": 84,
   "metadata": {},
   "outputs": [],
   "source": [
    "url_list = Lines[0: 20]\n",
    "data_dict = []\n",
    "broken_links = []"
   ]
  },
  {
   "cell_type": "code",
   "execution_count": 85,
   "metadata": {},
   "outputs": [
    {
     "name": "stdout",
     "output_type": "stream",
     "text": [
      "0\n",
      "1\n",
      "2\n",
      "3\n",
      "4\n",
      "5\n",
      "6\n",
      "7\n",
      "8\n",
      "9\n",
      "10\n",
      "11\n",
      "Error happened!\n",
      "Error happened!\n",
      "14\n",
      "Error happened!\n",
      "16\n",
      "Error happened!\n",
      "18\n",
      "19\n"
     ]
    }
   ],
   "source": [
    "import time\n",
    "for index, url in enumerate(url_list):\n",
    "    driver.get(url)\n",
    "    try:\n",
    "        title = driver.find_element(\"xpath\", \"/html/body/div[1]/main/div/article/aside[1]/div/div/h2\")\n",
    "        # pros = driver.find_element(\"class\", \"//*[@id=\\\"question-6371057dbb7c723161951ecf-response-body\\\"]/div/div[1]\")\n",
    "        # cons = driver.find_element('xpath', value=\"//*[@id=\\\"review-body\\\"]/section/div[1]\")\n",
    "        cons = driver.find_element(by=\"css selector\", value='.cons')\n",
    "        data_dict.append({\"title\": title.text, \"body\": cons.text})\n",
    "        print(index)\n",
    "        time.sleep(5)\n",
    "        \n",
    "\n",
    "    except:\n",
    "        broken_links.append(url)\n",
    "        print(\"Error happened!\")\n",
    "\n",
    "\n"
   ]
  },
  {
   "cell_type": "code",
   "execution_count": 86,
   "metadata": {},
   "outputs": [
    {
     "data": {
      "text/plain": [
       "[{'title': 'SAP Ariba Procurement',\n",
       "  'body': 'mobile app invoice approvals\\ncontract effective date needs to be able to be invoiced after'},\n",
       " {'title': 'SAP Ariba Procurement',\n",
       "  'body': 'Connect the operational Ariba contracts completly with S/4 contracts\\ncompany hierarchies in SLP and relation in according to the mdg\\nImplementation of a good search engine'},\n",
       " {'title': 'SAP Business Network',\n",
       "  'body': 'Complex account logic / multiple ANIDs required\\nGetting transaction reports across multiple ANIDs'},\n",
       " {'title': 'SAP Business Network',\n",
       "  'body': 'Account management - too many \"rogue\" accounts are created\\nDiscovery - Network catalogues are a nice feature but should be better controllable in regard to reach - as we are not allowed to sell everything to everyone..'},\n",
       " {'title': 'SAP Ariba Procurement',\n",
       "  'body': 'Focus on Retail issues\\nPerformance\\nflexibility in customization'},\n",
       " {'title': 'SAP Ariba Procurement',\n",
       "  'body': 'Catalog purchases in the mobile app\\nMore global languages'},\n",
       " {'title': 'SAP Ariba Procurement',\n",
       "  'body': 'More AI Support\\nSpeed\\nAdaptability for User'},\n",
       " {'title': 'SAP Datasphere',\n",
       "  'body': 'Not intuitive to set up\\nNot for novice users\\nNot enough of visual choices\\nData not always verified properly'},\n",
       " {'title': 'RingCentral MVP', 'body': 'Support\\nSupport\\nSupport'},\n",
       " {'title': 'SAP Datasphere', 'body': 'Nothing as such. Tool needs maturity'},\n",
       " {'title': 'Mailchimp',\n",
       "  'body': '\"Send To\" Contact Selection\\nCampaign Search Feature'},\n",
       " {'title': '360Learning',\n",
       "  'body': \"Menus of each group need a better Ariane's thread.\\nPossibility to add points or importance in a question depending of the answers\"},\n",
       " {'title': 'SAP Master Data Governance', 'body': 'Search Feature\\nAutomation'},\n",
       " {'title': 'SAP Master Data Governance',\n",
       "  'body': 'recently with new S4 hana use, there came a lot of integration areas\\nmore simplified add-on tool can become helpful\\nCreation of Raw material data if can be used in a more interactive way'},\n",
       " {'title': 'Astra DB',\n",
       "  'body': 'Query optimization by enhancing speed.\\nData Migration into Astra DB can be simplified.\\nUI for management tools can be more friendly.'},\n",
       " {'title': 'Mailchimp',\n",
       "  'body': 'Pop-up can be better - we use Privy for that instead\\nEasy way to cover all compliance in various countries\\nBetter plan options - between the current price plans'}]"
      ]
     },
     "execution_count": 86,
     "metadata": {},
     "output_type": "execute_result"
    }
   ],
   "source": [
    "data_dict"
   ]
  }
 ],
 "metadata": {
  "kernelspec": {
   "display_name": "Python 3",
   "language": "python",
   "name": "python3"
  },
  "language_info": {
   "codemirror_mode": {
    "name": "ipython",
    "version": 3
   },
   "file_extension": ".py",
   "mimetype": "text/x-python",
   "name": "python",
   "nbconvert_exporter": "python",
   "pygments_lexer": "ipython3",
   "version": "3.11.5"
  }
 },
 "nbformat": 4,
 "nbformat_minor": 2
}
