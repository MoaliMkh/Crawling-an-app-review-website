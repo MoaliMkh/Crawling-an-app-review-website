{
 "cells": [
  {
   "cell_type": "code",
   "execution_count": 1,
   "metadata": {},
   "outputs": [],
   "source": [
    "from selenium import webdriver\n",
    "driver = webdriver.Firefox()"
   ]
  },
  {
   "cell_type": "code",
   "execution_count": 2,
   "metadata": {},
   "outputs": [],
   "source": [
    "review_links = open('reviews.txt', 'r')\n",
    "Lines = review_links.readlines()"
   ]
  },
  {
   "cell_type": "code",
   "execution_count": 3,
   "metadata": {},
   "outputs": [],
   "source": [
    "url_list = Lines[0: 20]\n",
    "data_dict = []\n",
    "broken_links = []"
   ]
  },
  {
   "cell_type": "code",
   "execution_count": 4,
   "metadata": {},
   "outputs": [
    {
     "name": "stdout",
     "output_type": "stream",
     "text": [
      "0\n",
      "5\n",
      "10\n",
      "Error happened!\n",
      "Error happened!\n",
      "Error happened!\n",
      "Error happened!\n"
     ]
    }
   ],
   "source": [
    "import time\n",
    "for index, url in enumerate(url_list):\n",
    "    driver.get(url)\n",
    "    try:\n",
    "        title = driver.find_element(\"xpath\", \"/html/body/div[1]/main/div/article/aside[1]/div/div/h2\")\n",
    "        # pros = driver.find_element(\"class\", \"//*[@id=\\\"question-6371057dbb7c723161951ecf-response-body\\\"]/div/div[1]\")\n",
    "        # cons = driver.find_element('xpath', value=\"//*[@id=\\\"review-body\\\"]/section/div[1]\")\n",
    "        cons = driver.find_element(by=\"css selector\", value='.cons')\n",
    "        data_dict.append({\"title\": title.text, \"Issues and Downsides\": cons.text})\n",
    "        time.sleep(5)\n",
    "        if index % 5 == 0:\n",
    "            print(index)\n",
    "        \n",
    "    except:\n",
    "        broken_links.append(url)\n",
    "        print(\"Error happened!\")"
   ]
  },
  {
   "cell_type": "code",
   "execution_count": 5,
   "metadata": {},
   "outputs": [
    {
     "data": {
      "text/plain": [
       "[{'title': 'SAP Ariba Procurement',\n",
       "  'Issues and Downsides': 'mobile app invoice approvals\\ncontract effective date needs to be able to be invoiced after'},\n",
       " {'title': 'SAP Ariba Procurement',\n",
       "  'Issues and Downsides': 'Connect the operational Ariba contracts completly with S/4 contracts\\ncompany hierarchies in SLP and relation in according to the mdg\\nImplementation of a good search engine'},\n",
       " {'title': 'SAP Business Network',\n",
       "  'Issues and Downsides': 'Complex account logic / multiple ANIDs required\\nGetting transaction reports across multiple ANIDs'},\n",
       " {'title': 'SAP Business Network',\n",
       "  'Issues and Downsides': 'Account management - too many \"rogue\" accounts are created\\nDiscovery - Network catalogues are a nice feature but should be better controllable in regard to reach - as we are not allowed to sell everything to everyone..'},\n",
       " {'title': 'SAP Ariba Procurement',\n",
       "  'Issues and Downsides': 'Focus on Retail issues\\nPerformance\\nflexibility in customization'},\n",
       " {'title': 'SAP Ariba Procurement',\n",
       "  'Issues and Downsides': 'Catalog purchases in the mobile app\\nMore global languages'},\n",
       " {'title': 'SAP Ariba Procurement',\n",
       "  'Issues and Downsides': 'More AI Support\\nSpeed\\nAdaptability for User'},\n",
       " {'title': 'SAP Datasphere',\n",
       "  'Issues and Downsides': 'Not intuitive to set up\\nNot for novice users\\nNot enough of visual choices\\nData not always verified properly'},\n",
       " {'title': 'RingCentral MVP',\n",
       "  'Issues and Downsides': 'Support\\nSupport\\nSupport'},\n",
       " {'title': 'SAP Datasphere',\n",
       "  'Issues and Downsides': 'Nothing as such. Tool needs maturity'},\n",
       " {'title': 'Mailchimp',\n",
       "  'Issues and Downsides': '\"Send To\" Contact Selection\\nCampaign Search Feature'},\n",
       " {'title': '360Learning',\n",
       "  'Issues and Downsides': \"Menus of each group need a better Ariane's thread.\\nPossibility to add points or importance in a question depending of the answers\"},\n",
       " {'title': 'SAP Master Data Governance',\n",
       "  'Issues and Downsides': 'Search Feature\\nAutomation'},\n",
       " {'title': 'SAP Master Data Governance',\n",
       "  'Issues and Downsides': 'recently with new S4 hana use, there came a lot of integration areas\\nmore simplified add-on tool can become helpful\\nCreation of Raw material data if can be used in a more interactive way'},\n",
       " {'title': 'Astra DB',\n",
       "  'Issues and Downsides': 'Query optimization by enhancing speed.\\nData Migration into Astra DB can be simplified.\\nUI for management tools can be more friendly.'},\n",
       " {'title': 'Mailchimp',\n",
       "  'Issues and Downsides': 'Pop-up can be better - we use Privy for that instead\\nEasy way to cover all compliance in various countries\\nBetter plan options - between the current price plans'}]"
      ]
     },
     "execution_count": 5,
     "metadata": {},
     "output_type": "execute_result"
    }
   ],
   "source": [
    "data_dict"
   ]
  },
  {
   "cell_type": "code",
   "execution_count": 6,
   "metadata": {},
   "outputs": [],
   "source": [
    "import pandas as pd\n",
    "df = pd.DataFrame.from_dict(data_dict)\n"
   ]
  },
  {
   "cell_type": "code",
   "execution_count": 7,
   "metadata": {},
   "outputs": [
    {
     "data": {
      "text/html": [
       "<div>\n",
       "<style scoped>\n",
       "    .dataframe tbody tr th:only-of-type {\n",
       "        vertical-align: middle;\n",
       "    }\n",
       "\n",
       "    .dataframe tbody tr th {\n",
       "        vertical-align: top;\n",
       "    }\n",
       "\n",
       "    .dataframe thead th {\n",
       "        text-align: right;\n",
       "    }\n",
       "</style>\n",
       "<table border=\"1\" class=\"dataframe\">\n",
       "  <thead>\n",
       "    <tr style=\"text-align: right;\">\n",
       "      <th></th>\n",
       "      <th>title</th>\n",
       "      <th>Issues and Downsides</th>\n",
       "    </tr>\n",
       "  </thead>\n",
       "  <tbody>\n",
       "    <tr>\n",
       "      <th>0</th>\n",
       "      <td>SAP Ariba Procurement</td>\n",
       "      <td>mobile app invoice approvals\\ncontract effecti...</td>\n",
       "    </tr>\n",
       "    <tr>\n",
       "      <th>1</th>\n",
       "      <td>SAP Ariba Procurement</td>\n",
       "      <td>Connect the operational Ariba contracts comple...</td>\n",
       "    </tr>\n",
       "    <tr>\n",
       "      <th>2</th>\n",
       "      <td>SAP Business Network</td>\n",
       "      <td>Complex account logic / multiple ANIDs require...</td>\n",
       "    </tr>\n",
       "    <tr>\n",
       "      <th>3</th>\n",
       "      <td>SAP Business Network</td>\n",
       "      <td>Account management - too many \"rogue\" accounts...</td>\n",
       "    </tr>\n",
       "    <tr>\n",
       "      <th>4</th>\n",
       "      <td>SAP Ariba Procurement</td>\n",
       "      <td>Focus on Retail issues\\nPerformance\\nflexibili...</td>\n",
       "    </tr>\n",
       "    <tr>\n",
       "      <th>5</th>\n",
       "      <td>SAP Ariba Procurement</td>\n",
       "      <td>Catalog purchases in the mobile app\\nMore glob...</td>\n",
       "    </tr>\n",
       "    <tr>\n",
       "      <th>6</th>\n",
       "      <td>SAP Ariba Procurement</td>\n",
       "      <td>More AI Support\\nSpeed\\nAdaptability for User</td>\n",
       "    </tr>\n",
       "    <tr>\n",
       "      <th>7</th>\n",
       "      <td>SAP Datasphere</td>\n",
       "      <td>Not intuitive to set up\\nNot for novice users\\...</td>\n",
       "    </tr>\n",
       "    <tr>\n",
       "      <th>8</th>\n",
       "      <td>RingCentral MVP</td>\n",
       "      <td>Support\\nSupport\\nSupport</td>\n",
       "    </tr>\n",
       "    <tr>\n",
       "      <th>9</th>\n",
       "      <td>SAP Datasphere</td>\n",
       "      <td>Nothing as such. Tool needs maturity</td>\n",
       "    </tr>\n",
       "    <tr>\n",
       "      <th>10</th>\n",
       "      <td>Mailchimp</td>\n",
       "      <td>\"Send To\" Contact Selection\\nCampaign Search F...</td>\n",
       "    </tr>\n",
       "    <tr>\n",
       "      <th>11</th>\n",
       "      <td>360Learning</td>\n",
       "      <td>Menus of each group need a better Ariane's thr...</td>\n",
       "    </tr>\n",
       "    <tr>\n",
       "      <th>12</th>\n",
       "      <td>SAP Master Data Governance</td>\n",
       "      <td>Search Feature\\nAutomation</td>\n",
       "    </tr>\n",
       "    <tr>\n",
       "      <th>13</th>\n",
       "      <td>SAP Master Data Governance</td>\n",
       "      <td>recently with new S4 hana use, there came a lo...</td>\n",
       "    </tr>\n",
       "    <tr>\n",
       "      <th>14</th>\n",
       "      <td>Astra DB</td>\n",
       "      <td>Query optimization by enhancing speed.\\nData M...</td>\n",
       "    </tr>\n",
       "    <tr>\n",
       "      <th>15</th>\n",
       "      <td>Mailchimp</td>\n",
       "      <td>Pop-up can be better - we use Privy for that i...</td>\n",
       "    </tr>\n",
       "  </tbody>\n",
       "</table>\n",
       "</div>"
      ],
      "text/plain": [
       "                         title  \\\n",
       "0        SAP Ariba Procurement   \n",
       "1        SAP Ariba Procurement   \n",
       "2         SAP Business Network   \n",
       "3         SAP Business Network   \n",
       "4        SAP Ariba Procurement   \n",
       "5        SAP Ariba Procurement   \n",
       "6        SAP Ariba Procurement   \n",
       "7               SAP Datasphere   \n",
       "8              RingCentral MVP   \n",
       "9               SAP Datasphere   \n",
       "10                   Mailchimp   \n",
       "11                 360Learning   \n",
       "12  SAP Master Data Governance   \n",
       "13  SAP Master Data Governance   \n",
       "14                    Astra DB   \n",
       "15                   Mailchimp   \n",
       "\n",
       "                                 Issues and Downsides  \n",
       "0   mobile app invoice approvals\\ncontract effecti...  \n",
       "1   Connect the operational Ariba contracts comple...  \n",
       "2   Complex account logic / multiple ANIDs require...  \n",
       "3   Account management - too many \"rogue\" accounts...  \n",
       "4   Focus on Retail issues\\nPerformance\\nflexibili...  \n",
       "5   Catalog purchases in the mobile app\\nMore glob...  \n",
       "6       More AI Support\\nSpeed\\nAdaptability for User  \n",
       "7   Not intuitive to set up\\nNot for novice users\\...  \n",
       "8                           Support\\nSupport\\nSupport  \n",
       "9                Nothing as such. Tool needs maturity  \n",
       "10  \"Send To\" Contact Selection\\nCampaign Search F...  \n",
       "11  Menus of each group need a better Ariane's thr...  \n",
       "12                         Search Feature\\nAutomation  \n",
       "13  recently with new S4 hana use, there came a lo...  \n",
       "14  Query optimization by enhancing speed.\\nData M...  \n",
       "15  Pop-up can be better - we use Privy for that i...  "
      ]
     },
     "execution_count": 7,
     "metadata": {},
     "output_type": "execute_result"
    }
   ],
   "source": [
    "df"
   ]
  }
 ],
 "metadata": {
  "kernelspec": {
   "display_name": "Python 3",
   "language": "python",
   "name": "python3"
  },
  "language_info": {
   "codemirror_mode": {
    "name": "ipython",
    "version": 3
   },
   "file_extension": ".py",
   "mimetype": "text/x-python",
   "name": "python",
   "nbconvert_exporter": "python",
   "pygments_lexer": "ipython3",
   "version": "3.11.5"
  }
 },
 "nbformat": 4,
 "nbformat_minor": 2
}
